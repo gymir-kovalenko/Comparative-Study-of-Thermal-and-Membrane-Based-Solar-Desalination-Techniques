{
 "cells": [
  {
   "cell_type": "markdown",
   "id": "9ec60400",
   "metadata": {},
   "source": [
    "# Data Exploration and Preprocessing"
   ]
  },
  {
   "cell_type": "code",
   "execution_count": null,
   "id": "2561da21",
   "metadata": {},
   "outputs": [],
   "source": [
    "import pandas as pd\n",
    "import matplotlib.pyplot as plt\n",
    "import seaborn as sns"
   ]
  },
  {
   "cell_type": "markdown",
   "id": "8fbe5a71",
   "metadata": {},
   "source": [
    "# Load dataset"
   ]
  },
  {
   "cell_type": "code",
   "execution_count": null,
   "id": "9d7760bb",
   "metadata": {},
   "outputs": [],
   "source": [
    "df = pd.read_csv('solar_desalination_data.csv')"
   ]
  },
  {
   "cell_type": "markdown",
   "id": "f053b54b",
   "metadata": {},
   "source": [
    "# Basic info"
   ]
  },
  {
   "cell_type": "code",
   "execution_count": null,
   "id": "dd419558",
   "metadata": {},
   "outputs": [],
   "source": [
    "df.info()"
   ]
  },
  {
   "cell_type": "markdown",
   "id": "b934bb98",
   "metadata": {},
   "source": [
    "# Check for nulls"
   ]
  },
  {
   "cell_type": "code",
   "execution_count": null,
   "id": "9f32c80f",
   "metadata": {},
   "outputs": [],
   "source": [
    "df.isnull().sum()"
   ]
  },
  {
   "cell_type": "markdown",
   "id": "6cb6b04d",
   "metadata": {},
   "source": [
    "# Visualize distribution by technique"
   ]
  },
  {
   "cell_type": "code",
   "execution_count": null,
   "id": "22219408",
   "metadata": {},
   "outputs": [],
   "source": [
    "sns.histplot(data=df, x='efficiency', hue='technique', kde=True)\n",
    "plt.title('Efficiency Distribution by Technique')\n",
    "plt.show()"
   ]
  }
 ],
 "metadata": {},
 "nbformat": 4,
 "nbformat_minor": 5
}
