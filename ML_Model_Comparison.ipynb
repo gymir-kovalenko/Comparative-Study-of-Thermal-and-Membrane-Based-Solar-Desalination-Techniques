{
 "cells": [
  {
   "cell_type": "markdown",
   "id": "cff04704",
   "metadata": {},
   "source": [
    "# Machine Learning Model Comparison"
   ]
  },
  {
   "cell_type": "code",
   "execution_count": null,
   "id": "9971bec6",
   "metadata": {},
   "outputs": [],
   "source": [
    "import pandas as pd\n",
    "from sklearn.model_selection import train_test_split\n",
    "from sklearn.ensemble import RandomForestClassifier\n",
    "from sklearn.metrics import classification_report"
   ]
  },
  {
   "cell_type": "markdown",
   "id": "7e755247",
   "metadata": {},
   "source": [
    "# Load dataset"
   ]
  },
  {
   "cell_type": "code",
   "execution_count": null,
   "id": "88c382ea",
   "metadata": {},
   "outputs": [],
   "source": [
    "df = pd.read_csv('solar_desalination_data.csv')"
   ]
  },
  {
   "cell_type": "markdown",
   "id": "0a05f871",
   "metadata": {},
   "source": [
    "# Preprocess"
   ]
  },
  {
   "cell_type": "code",
   "execution_count": null,
   "id": "ddf5d908",
   "metadata": {},
   "outputs": [],
   "source": [
    "df['technique'] = df['technique'].map({'thermal': 0, 'membrane': 1})"
   ]
  },
  {
   "cell_type": "code",
   "execution_count": null,
   "id": "8dd4a326",
   "metadata": {},
   "outputs": [],
   "source": [
    "X = df.drop(['technique'], axis=1)\n",
    "y = df['technique']"
   ]
  },
  {
   "cell_type": "code",
   "execution_count": null,
   "id": "ed7026dc",
   "metadata": {},
   "outputs": [],
   "source": [
    "X_train, X_test, y_train, y_test = train_test_split(X, y, test_size=0.2, random_state=42)"
   ]
  },
  {
   "cell_type": "code",
   "execution_count": null,
   "id": "5be9e9ea",
   "metadata": {},
   "outputs": [],
   "source": [
    "model = RandomForestClassifier()\n",
    "model.fit(X_train, y_train)"
   ]
  },
  {
   "cell_type": "code",
   "execution_count": null,
   "id": "258dbc0d",
   "metadata": {},
   "outputs": [],
   "source": [
    "y_pred = model.predict(X_test)\n",
    "print(classification_report(y_test, y_pred))"
   ]
  }
 ],
 "metadata": {},
 "nbformat": 4,
 "nbformat_minor": 5
}
