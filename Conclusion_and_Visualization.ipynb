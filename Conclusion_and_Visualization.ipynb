{
 "cells": [
  {
   "cell_type": "markdown",
   "id": "c027f9be",
   "metadata": {},
   "source": [
    "# Conclusion and Result Visualization"
   ]
  },
  {
   "cell_type": "code",
   "execution_count": null,
   "id": "3773174e",
   "metadata": {},
   "outputs": [],
   "source": [
    "import matplotlib.pyplot as plt\n",
    "import pandas as pd"
   ]
  },
  {
   "cell_type": "markdown",
   "id": "e1421c20",
   "metadata": {},
   "source": [
    "# Assume we have results"
   ]
  },
  {
   "cell_type": "code",
   "execution_count": null,
   "id": "cfe77f08",
   "metadata": {},
   "outputs": [],
   "source": [
    "methods = ['Thermal', 'Membrane']\n",
    "eff_avg = [45.2, 51.7]"
   ]
  },
  {
   "cell_type": "code",
   "execution_count": null,
   "id": "103ec24f",
   "metadata": {},
   "outputs": [],
   "source": [
    "plt.bar(methods, eff_avg, color=['orange', 'blue'])\n",
    "plt.ylabel('Average Efficiency (%)')\n",
    "plt.title('Efficiency Comparison')\n",
    "plt.show()"
   ]
  },
  {
   "cell_type": "code",
   "execution_count": null,
   "id": "f5f0fc25",
   "metadata": {},
   "outputs": [],
   "source": [
    "print('Membrane-based systems showed higher average efficiency based on the analysis.')"
   ]
  }
 ],
 "metadata": {},
 "nbformat": 4,
 "nbformat_minor": 5
}
