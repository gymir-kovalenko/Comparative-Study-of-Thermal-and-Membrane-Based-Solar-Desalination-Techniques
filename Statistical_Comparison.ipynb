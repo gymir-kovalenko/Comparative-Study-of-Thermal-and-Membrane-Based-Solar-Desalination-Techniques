{
 "cells": [
  {
   "cell_type": "markdown",
   "id": "838bf0d1",
   "metadata": {},
   "source": [
    "# Statistical Comparison Between Techniques"
   ]
  },
  {
   "cell_type": "code",
   "execution_count": null,
   "id": "88ad5be6",
   "metadata": {},
   "outputs": [],
   "source": [
    "import pandas as pd\n",
    "from scipy.stats import ttest_ind"
   ]
  },
  {
   "cell_type": "markdown",
   "id": "88133609",
   "metadata": {},
   "source": [
    "# Load dataset"
   ]
  },
  {
   "cell_type": "code",
   "execution_count": null,
   "id": "e69eddcd",
   "metadata": {},
   "outputs": [],
   "source": [
    "df = pd.read_csv('solar_desalination_data.csv')"
   ]
  },
  {
   "cell_type": "markdown",
   "id": "f5411759",
   "metadata": {},
   "source": [
    "# Separate data"
   ]
  },
  {
   "cell_type": "code",
   "execution_count": null,
   "id": "6c13d53a",
   "metadata": {},
   "outputs": [],
   "source": [
    "thermal = df[df['technique'] == 'thermal']\n",
    "membrane = df[df['technique'] == 'membrane']"
   ]
  },
  {
   "cell_type": "markdown",
   "id": "ee4cfd6c",
   "metadata": {},
   "source": [
    "# Perform t-test on efficiency"
   ]
  },
  {
   "cell_type": "code",
   "execution_count": null,
   "id": "59d9c86d",
   "metadata": {},
   "outputs": [],
   "source": [
    "t_stat, p_val = ttest_ind(thermal['efficiency'], membrane['efficiency'])"
   ]
  },
  {
   "cell_type": "code",
   "execution_count": null,
   "id": "2280a1e1",
   "metadata": {},
   "outputs": [],
   "source": [
    "print(f'T-statistic: {t_stat}, P-value: {p_val}')"
   ]
  }
 ],
 "metadata": {},
 "nbformat": 4,
 "nbformat_minor": 5
}
